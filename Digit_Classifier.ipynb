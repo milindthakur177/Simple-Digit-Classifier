{
  "nbformat": 4,
  "nbformat_minor": 0,
  "metadata": {
    "colab": {
      "name": "Digit Classifier.ipynb",
      "provenance": []
    },
    "kernelspec": {
      "name": "python3",
      "display_name": "Python 3"
    }
  },
  "cells": [
    {
      "cell_type": "markdown",
      "metadata": {
        "id": "bRmmE5Jbl0Gi"
      },
      "source": [
        "Importing Libraries"
      ]
    },
    {
      "cell_type": "code",
      "metadata": {
        "id": "FMUCYf0sfZA5"
      },
      "source": [
        "import numpy as np\r\n",
        "import pandas as pd\r\n",
        "import tensorflow as tf\r\n",
        "from keras.layers import Dense, Flatten, Dropout\r\n",
        "from keras.models import Sequential\r\n",
        "from keras.utils import normalize\r\n",
        "import matplotlib.pyplot as plt\r\n",
        "%matplotlib inline\r\n",
        "from keras.datasets import mnist"
      ],
      "execution_count": 36,
      "outputs": []
    },
    {
      "cell_type": "markdown",
      "metadata": {
        "id": "X-GpJJ_Ul480"
      },
      "source": [
        "Preparing Training and Testing sets"
      ]
    },
    {
      "cell_type": "code",
      "metadata": {
        "id": "9hYuo49kfxr3"
      },
      "source": [
        "(x_train,y_train) , (x_test,y_test) = mnist.load_data() \r\n",
        "\r\n",
        "x_train = normalize(x_train,axis=1) \r\n",
        "x_test = normalize(x_test,axis=1) "
      ],
      "execution_count": 37,
      "outputs": []
    },
    {
      "cell_type": "markdown",
      "metadata": {
        "id": "RZ0P6YXTmSWl"
      },
      "source": [
        "Defining Model"
      ]
    },
    {
      "cell_type": "code",
      "metadata": {
        "id": "euLl0g9Pf7q_"
      },
      "source": [
        "model = Sequential() \r\n",
        "  \r\n",
        "model.add(tf.keras.layers.Flatten(input_shape=(28, 28))) \r\n",
        "  \r\n",
        "model.add(Dense(128,activation= \"relu\")) \r\n",
        "model.add(Dense(128,activation= \"relu\")) \r\n",
        "model.add(Dense(64,activation= \"relu\"))\r\n",
        "model.add(Dense(32,activation= \"relu\"))\r\n",
        "model.add(Dense(10,activation= \"softmax\")) "
      ],
      "execution_count": 38,
      "outputs": []
    },
    {
      "cell_type": "markdown",
      "metadata": {
        "id": "4l0Lxtr0maT_"
      },
      "source": [
        "Compiling and Training the Model"
      ]
    },
    {
      "cell_type": "code",
      "metadata": {
        "colab": {
          "base_uri": "https://localhost:8080/"
        },
        "id": "B9jGTM_WiD5U",
        "outputId": "c77b419b-e22b-49ad-ecdc-a95c7f2d83d8"
      },
      "source": [
        "model.compile(optimizer='adam', loss='sparse_categorical_crossentropy', metrics=['accuracy']) \r\n",
        "model.fit(x_train,y_train,epochs=20) "
      ],
      "execution_count": 39,
      "outputs": [
        {
          "output_type": "stream",
          "text": [
            "Epoch 1/20\n",
            "1875/1875 [==============================] - 5s 3ms/step - loss: 0.5328 - accuracy: 0.8380\n",
            "Epoch 2/20\n",
            "1875/1875 [==============================] - 7s 4ms/step - loss: 0.1146 - accuracy: 0.9634\n",
            "Epoch 3/20\n",
            "1875/1875 [==============================] - 10s 5ms/step - loss: 0.0730 - accuracy: 0.9768\n",
            "Epoch 4/20\n",
            "1875/1875 [==============================] - 5s 2ms/step - loss: 0.0568 - accuracy: 0.9826\n",
            "Epoch 5/20\n",
            "1875/1875 [==============================] - 4s 2ms/step - loss: 0.0456 - accuracy: 0.9854\n",
            "Epoch 6/20\n",
            "1875/1875 [==============================] - 4s 2ms/step - loss: 0.0342 - accuracy: 0.9894\n",
            "Epoch 7/20\n",
            "1875/1875 [==============================] - 4s 2ms/step - loss: 0.0297 - accuracy: 0.9904\n",
            "Epoch 8/20\n",
            "1875/1875 [==============================] - 4s 2ms/step - loss: 0.0246 - accuracy: 0.9922\n",
            "Epoch 9/20\n",
            "1875/1875 [==============================] - 4s 2ms/step - loss: 0.0230 - accuracy: 0.9926\n",
            "Epoch 10/20\n",
            "1875/1875 [==============================] - 4s 2ms/step - loss: 0.0170 - accuracy: 0.9945\n",
            "Epoch 11/20\n",
            "1875/1875 [==============================] - 4s 2ms/step - loss: 0.0166 - accuracy: 0.9949\n",
            "Epoch 12/20\n",
            "1875/1875 [==============================] - 4s 2ms/step - loss: 0.0155 - accuracy: 0.9944\n",
            "Epoch 13/20\n",
            "1875/1875 [==============================] - 4s 2ms/step - loss: 0.0169 - accuracy: 0.9943\n",
            "Epoch 14/20\n",
            "1875/1875 [==============================] - 4s 2ms/step - loss: 0.0133 - accuracy: 0.9961\n",
            "Epoch 15/20\n",
            "1875/1875 [==============================] - 5s 3ms/step - loss: 0.0115 - accuracy: 0.9962\n",
            "Epoch 16/20\n",
            "1875/1875 [==============================] - 4s 2ms/step - loss: 0.0112 - accuracy: 0.9966\n",
            "Epoch 17/20\n",
            "1875/1875 [==============================] - 4s 2ms/step - loss: 0.0100 - accuracy: 0.9968\n",
            "Epoch 18/20\n",
            "1875/1875 [==============================] - 4s 2ms/step - loss: 0.0150 - accuracy: 0.9951\n",
            "Epoch 19/20\n",
            "1875/1875 [==============================] - 4s 2ms/step - loss: 0.0091 - accuracy: 0.9974\n",
            "Epoch 20/20\n",
            "1875/1875 [==============================] - 4s 2ms/step - loss: 0.0101 - accuracy: 0.9970\n"
          ],
          "name": "stdout"
        },
        {
          "output_type": "execute_result",
          "data": {
            "text/plain": [
              "<tensorflow.python.keras.callbacks.History at 0x7fd1fda936a0>"
            ]
          },
          "metadata": {
            "tags": []
          },
          "execution_count": 39
        }
      ]
    },
    {
      "cell_type": "markdown",
      "metadata": {
        "id": "v-yfeQbimhWB"
      },
      "source": [
        "Model Evaluation"
      ]
    },
    {
      "cell_type": "code",
      "metadata": {
        "colab": {
          "base_uri": "https://localhost:8080/"
        },
        "id": "ODQiXnsCiM4D",
        "outputId": "1b5022d0-3a15-423b-9266-862bf74ee25b"
      },
      "source": [
        "model.evaluate(x_test,y_test) "
      ],
      "execution_count": 40,
      "outputs": [
        {
          "output_type": "stream",
          "text": [
            "313/313 [==============================] - 1s 1ms/step - loss: 0.1483 - accuracy: 0.9744\n"
          ],
          "name": "stdout"
        },
        {
          "output_type": "execute_result",
          "data": {
            "text/plain": [
              "[0.14829707145690918, 0.974399983882904]"
            ]
          },
          "metadata": {
            "tags": []
          },
          "execution_count": 40
        }
      ]
    },
    {
      "cell_type": "markdown",
      "metadata": {
        "id": "yVM4Rqb0ml2A"
      },
      "source": [
        "Prediction using Model"
      ]
    },
    {
      "cell_type": "code",
      "metadata": {
        "colab": {
          "base_uri": "https://localhost:8080/"
        },
        "id": "GfrqyVd_kmEu",
        "outputId": "a41f8f90-7e4a-4319-fd5e-98b1f9599587"
      },
      "source": [
        "predictions=model.predict([x_test]) \r\n",
        "print('label=',y_test[10] , 'prediction=',np.argmax(predictions[10]))"
      ],
      "execution_count": 41,
      "outputs": [
        {
          "output_type": "stream",
          "text": [
            "label= 0 prediction= 0\n"
          ],
          "name": "stdout"
        }
      ]
    },
    {
      "cell_type": "code",
      "metadata": {
        "id": "LeFcP_Bgk5Hs"
      },
      "source": [
        ""
      ],
      "execution_count": 41,
      "outputs": []
    }
  ]
}